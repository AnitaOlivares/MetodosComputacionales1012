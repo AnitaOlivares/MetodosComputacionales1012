{
  "nbformat": 4,
  "nbformat_minor": 0,
  "metadata": {
    "colab": {
      "provenance": [],
      "include_colab_link": true
    },
    "kernelspec": {
      "name": "python3",
      "display_name": "Python 3"
    },
    "language_info": {
      "name": "python"
    }
  },
  "cells": [
    {
      "cell_type": "markdown",
      "metadata": {
        "id": "view-in-github",
        "colab_type": "text"
      },
      "source": [
        "<a href=\"https://colab.research.google.com/github/arthursuc/MetodosComputacionales1012/blob/main/Students/Arthur_1047/Tareas/Actividad02_Librerias.ipynb\" target=\"_parent\"><img src=\"https://colab.research.google.com/assets/colab-badge.svg\" alt=\"Open In Colab\"/></a>"
      ]
    },
    {
      "cell_type": "markdown",
      "source": [
        "# Actividad 02: Librerias y modelamiento básico\n",
        "\n",
        "### Profesor: Juan Marcos Marín Ramírez\n",
        "#### Métodos Computacionales\n",
        "---\n",
        "\n"
      ],
      "metadata": {
        "id": "rdLoJ5zATglY"
      }
    },
    {
      "cell_type": "markdown",
      "source": [
        "## 1.\n",
        "Una persona conduce una moto con rapidez constante $v_m$, mientras que un policia lo hace con aceleración constante $a_p$ (iniciando desde el reposo). Suponga que ambos movimientos inician en $t=0$, haga una gráfica para el movimiento de la moto y del policia, donde el usuario ingrese la velocidad (moto) y aceleración (policia). Además determine el instante $t$ en el cual se encuentran ambos. Ambos movimientos iniciarán en $x_i = 0$\n",
        "\n",
        "**Pruebe**: para $v_m$ = 15m/s y $a_p$ = 3 m/s², el tiempo deberia ser 10 s\n",
        "\n",
        "\n",
        "$$x_f = x_i + v_m\\cdot t$$\n",
        "\n",
        "$$x_f = x_i + v_o\\cdot t + \\frac{1}{2}a_p\\cdot t^2$$\n",
        "\n"
      ],
      "metadata": {
        "id": "uVGJiXFxTvci"
      }
    },
    {
      "cell_type": "code",
      "source": [
        "import numpy as np\n",
        "import matplotlib.pyplot as plt"
      ],
      "metadata": {
        "id": "OLpnGwMTTuhn"
      },
      "execution_count": 1,
      "outputs": []
    },
    {
      "cell_type": "code",
      "source": [
        "vm = float(input(\"Ingrese la velocidad de la moto:\"))\n",
        "ap = float(input(\"Ingrese la aceleración del policía:\"))\n",
        "#Intervalo de tiempo\n",
        "t = np.linspace(0,30,50)\n",
        "fmoto = lambda t: vm*t\n",
        "fpol = lambda t: 1/2*ap*t**2\n",
        "#Coeficientes de la resta de las dos funciones\n",
        "coefficients = np.array([(-1/2)*ap,vm])\n",
        "print(\"el valor de t en que se cruzan los dos móviles es\", np.roots(coefficients))\n",
        "plt.xlabel(\"Tiempo(s)\")\n",
        "plt.ylabel(\"Posicion(m)\")\n",
        "plt.plot(t,fmoto(t))\n",
        "plt.plot(t,fpol(t))"
      ],
      "metadata": {
        "colab": {
          "base_uri": "https://localhost:8080/",
          "height": 522
        },
        "id": "BK7d-jiWI7yx",
        "outputId": "231c7f17-7640-44e5-f201-68836a022ba6"
      },
      "execution_count": 23,
      "outputs": [
        {
          "output_type": "stream",
          "name": "stdout",
          "text": [
            "Ingrese la velocidad de la moto:15\n",
            "Ingrese la aceleración del policía:3\n",
            "el valor de t en que se cruzan los dos móviles es [10.]\n"
          ]
        },
        {
          "output_type": "execute_result",
          "data": {
            "text/plain": [
              "[<matplotlib.lines.Line2D at 0x7c2ce4c2bf50>]"
            ]
          },
          "metadata": {},
          "execution_count": 23
        },
        {
          "output_type": "display_data",
          "data": {
            "text/plain": [
              "<Figure size 640x480 with 1 Axes>"
            ],
            "image/png": "[encoded data removed]"
          },
          "metadata": {}
        }
      ]
    },
    {
      "cell_type": "markdown",
      "source": [
        "5---\n",
        "\n",
        "##2.\n",
        "El potencial Lennard-Jones es un modelo simple que aproxima la interacción entre un par de moléculas neutras. Este está definido como:\n",
        "\n",
        "$$\n",
        "V(r) = 4\\epsilon \\left[ \\left( \\frac{\\sigma}{r} \\right)^{12} - \\left( \\frac{\\sigma}{r} \\right)^{6} \\right]\n",
        "$$\n",
        "\n",
        "Donde:\n",
        "- $V(r)$ es el potencial en función de la distancia interatómica $r$.\n",
        "- $\\epsilon$ es la profundidad del pozo de potencial, es decir, la energía mínima que describe la interacción entre dos partículas.\n",
        "- $\\sigma$ es la distancia a la cual el potencial es cero, también conocido como el parámetro de distancia.\n",
        "- $r$ es la distancia entre las dos partículas.\n",
        "\n",
        "a. Escriba una función para encontrar modelar el potencial LJ.\n",
        "\n",
        "\n",
        "b. Usando $\\sigma = \\epsilon = 1$ demuestre que la distancia de equilibrio $r_m$ es aproximadamente $r_m = 2^{1/6}\\sigma$. Para esto realice un gráfico del potencial, especificando los ejes. Trunque la serie en $r_c = 2.5\\sigma$.\n",
        "\n",
        "\n",
        "c. Verifique que $r_m = 2^{1/6}\\sigma$ se cumple para diferentes valores de $\\sigma$, dejando $\\epsilon$ constante.\n",
        "\n",
        "\n"
      ],
      "metadata": {
        "id": "wz47Be5-TyvA"
      }
    },
    {
      "cell_type": "code",
      "source": [],
      "metadata": {
        "id": "hVOzrf8HT0Zx"
      },
      "execution_count": null,
      "outputs": []
    },
    {
      "cell_type": "markdown",
      "source": [
        "##3.  \n",
        "El siguiente código exporta tablas html de sitios web\n",
        "\n",
        "```python\n",
        "import pandas as pd\n",
        "\n",
        "# Dataset 1\n",
        "# URL of the webpage\n",
        "url = \"https://worldpopulationreview.com/country-rankings/average-height-by-country\"\n",
        "\n",
        "# Read the HTML content\n",
        "html_content = pd.read_html(url)\n",
        "\n",
        "alturas = html_content[0]\n",
        "\n",
        "# Dataset 2\n",
        "# URL of the webpage\n",
        "url = \"https://worldpopulationreview.com/country-rankings/average-net-worth-by-country\"\n",
        "\n",
        "# Read the HTML content\n",
        "html_content = pd.read_html(url)\n",
        "\n",
        "income = html_content[0]\n",
        "````\n",
        "\n",
        "El primer dataset muestra las alturas medias de niñ@s de 19 años.\n",
        "\n",
        "a. Limpie los datos, eliminando columnas en *(in)* y cambie todos los nombres de las columnas al español.\n",
        "\n",
        "b. Realice un gráfico de barras, donde se muestre una comparación de la estatura media para niños (cm) y niñas (cm) en ambas categorias. Esto para los primeros 10 paises con mayor y menor altura, además agregue a Colombia.\n",
        "\n",
        "c. ¿Existirá una relación entre la riqueza y la altura? Usando el dataset `income`, haga un merge con el dataset `alturas`. Ahora, empleando los datos de altura para los 10 mayores (19 años) y 10 menores (19 años). Realice un gráfico donde relacione la altura media con el GDP y concluya si existe alguna relación.\n"
      ],
      "metadata": {
        "id": "DPQ-NPD7T0-g"
      }
    },
    {
      "cell_type": "code",
      "source": [],
      "metadata": {
        "id": "dVA2eX5qT2qS"
      },
      "execution_count": null,
      "outputs": []
    }
  ]
}