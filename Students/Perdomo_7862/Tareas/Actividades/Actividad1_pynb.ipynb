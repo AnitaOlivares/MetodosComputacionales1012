{
  "cells": [
    {
      "cell_type": "markdown",
      "metadata": {
        "id": "hQD3nLETcT0R"
      },
      "source": [
        "# **Actividad** **1**"
      ]
    },
    {
      "cell_type": "markdown",
      "metadata": {
        "id": "syU7yrbDchYc"
      },
      "source": [
        "# **Punto 1**"
      ]
    },
    {
      "cell_type": "code",
      "execution_count": null,
      "metadata": {
        "id": "tA03zUBzcgHJ"
      },
      "outputs": [],
      "source": [
        "def primos (n):\n",
        "    \"\"\"\n",
        "    Tiene de entrada un número n que será el límite superior del rango\n",
        "    donde se buscarán los número primos en ese intervalo y devuelve los números primos\n",
        "    \"\"\"\n",
        "    lista_bol=[] #sLista vacía\n",
        "    lista_numeros=[i for i in range(2,n+1)] #Lista de números de 2 hasta n\n",
        "    for j in range(2,n+1): #se crea una lista de valores boleanos en un inicio en True desde 2 hasta n\n",
        "        lista_bol.append(True)\n",
        "    for a in lista_numeros: #Ciclo for que recorre todos los números de 2 hasta n\n",
        "         if lista_bol[lista_numeros.index(a)]==True: #cada a en lista_numeros tiene asociado un valor True o False en lista_bol, aqui se verifica su estado\n",
        "           for iterador in lista_numeros: #otro ciclo for si el número tiene asociado un True\n",
        "             if a%iterador==0 and iterador!=a: #se condiciona a que si el número tiene divisores propios entonces:\n",
        "               indice=lista_numeros.index(a) #se busca el indice del número que satisface la condición y se guarda\n",
        "               lista_bol[indice]=False  #se cambia el estado a False (no es primo)\n",
        "    lista_filtrada=[]#lista vacía\n",
        "    for b in lista_numeros: #otro ciclo for\n",
        "        if lista_bol[lista_numeros.index(b)]==True: #aquí se relaciona si el estado asociado a cada número es True (primo)\n",
        "            lista_filtrada.append(b) #ahora si es verdadero se agrega a lista_filtrada\n",
        "    return lista_filtrada #se regresan los números primos"
      ]
    },
    {
      "cell_type": "code",
      "execution_count": null,
      "metadata": {
        "colab": {
          "base_uri": "https://localhost:8080/"
        },
        "id": "VVb_FOOk3iKG",
        "outputId": "57dd0eb4-8934-44de-a690-f657c8217337"
      },
      "outputs": [
        {
          "data": {
            "text/plain": [
              "[2, 3, 5, 7, 11, 13, 17, 19, 23, 29, 31, 37, 41, 43, 47]"
            ]
          },
          "execution_count": 26,
          "metadata": {},
          "output_type": "execute_result"
        }
      ],
      "source": [
        "primos(50)"
      ]
    },
    {
      "cell_type": "markdown",
      "metadata": {
        "id": "2-Lk5Yyscqn1"
      },
      "source": [
        "# **Punto 2**"
      ]
    },
    {
      "cell_type": "code",
      "execution_count": null,
      "metadata": {
        "colab": {
          "base_uri": "https://localhost:8080/"
        },
        "id": "rJfco6CsZv-f",
        "outputId": "59ad5bc4-b986-4b49-a703-08de9f7a5c0d"
      },
      "outputs": [
        {
          "name": "stdout",
          "output_type": "stream",
          "text": [
            "3.0418396189294032\n",
            "3.1315929035585537\n",
            "3.140592653839794\n",
            "3.1414926535900345\n",
            "3.1415826535897198\n",
            "3.1415916535897743\n",
            "3.1415925535897915\n"
          ]
        }
      ],
      "source": [
        "def calcular_pi (n):\n",
        "    \"\"\"\n",
        "    Calcula el valor de pi por medio de la serie de Leibnitz, entra un n\n",
        "    y determina la suma de esos primeros n términos\n",
        "    \"\"\"\n",
        "    suma=0\n",
        "#Se hace un ciclo for para sumar los primeros n término de la serie\n",
        "    for i in range(n):\n",
        "        termino=((-1)**i)/(2*i+1) #término general de la serie\n",
        "        suma+=termino  #suma de los términos\n",
        "    return print(4*suma) #devuelve el valor de pi\n",
        "\n"
      ]
    },
    {
      "cell_type": "code",
      "execution_count": null,
      "metadata": {
        "colab": {
          "base_uri": "https://localhost:8080/"
        },
        "id": "Oz6M4m5WcxGx",
        "outputId": "7660347b-ff72-4236-ed13-a092826bef09"
      },
      "outputs": [
        {
          "name": "stdout",
          "output_type": "stream",
          "text": [
            "3.0418396189294032\n"
          ]
        }
      ],
      "source": [
        "calcular_pi(10)"
      ]
    },
    {
      "cell_type": "code",
      "execution_count": null,
      "metadata": {
        "colab": {
          "base_uri": "https://localhost:8080/"
        },
        "id": "MTfv9httcxBP",
        "outputId": "1ac28365-1c13-4012-cb00-2b3e1aabbdfa"
      },
      "outputs": [
        {
          "name": "stdout",
          "output_type": "stream",
          "text": [
            "3.1315929035585537\n"
          ]
        }
      ],
      "source": [
        "calcular_pi(100)"
      ]
    },
    {
      "cell_type": "code",
      "execution_count": null,
      "metadata": {
        "colab": {
          "base_uri": "https://localhost:8080/"
        },
        "id": "Q1K-UaiBcw6B",
        "outputId": "3555cbeb-fc50-460f-80eb-94d4ed0c76e2"
      },
      "outputs": [
        {
          "name": "stdout",
          "output_type": "stream",
          "text": [
            "3.140592653839794\n"
          ]
        }
      ],
      "source": [
        "calcular_pi(1000)"
      ]
    },
    {
      "cell_type": "code",
      "execution_count": null,
      "metadata": {
        "colab": {
          "base_uri": "https://localhost:8080/"
        },
        "id": "4CC5Ndyzc4j1",
        "outputId": "e668bc98-6cc4-427b-8bf5-e546f0a1b6b5"
      },
      "outputs": [
        {
          "name": "stdout",
          "output_type": "stream",
          "text": [
            "3.1414926535900345\n"
          ]
        }
      ],
      "source": [
        "calcular_pi(10000)"
      ]
    },
    {
      "cell_type": "code",
      "execution_count": null,
      "metadata": {
        "colab": {
          "base_uri": "https://localhost:8080/"
        },
        "id": "u2bFTt3rc7A4",
        "outputId": "d620937a-0730-4952-c67f-6b27061cfd21"
      },
      "outputs": [
        {
          "name": "stdout",
          "output_type": "stream",
          "text": [
            "3.1415826535897198\n"
          ]
        }
      ],
      "source": [
        "calcular_pi(100000)"
      ]
    },
    {
      "cell_type": "code",
      "execution_count": null,
      "metadata": {
        "colab": {
          "base_uri": "https://localhost:8080/"
        },
        "id": "2BF_eb-zc-Ze",
        "outputId": "34c773f4-488f-49f6-d9ed-9ba68f350d69"
      },
      "outputs": [
        {
          "name": "stdout",
          "output_type": "stream",
          "text": [
            "3.1415916535897743\n"
          ]
        }
      ],
      "source": [
        "calcular_pi(1000000)"
      ]
    },
    {
      "cell_type": "markdown",
      "metadata": {
        "id": "Zxq0cdgWdE_p"
      },
      "source": [
        "# **Punto 3**"
      ]
    },
    {
      "cell_type": "code",
      "execution_count": null,
      "metadata": {
        "id": "QcSWvjeydDNZ"
      },
      "outputs": [],
      "source": [
        "def suma_divisores(n):\n",
        "  \"\"\"\n",
        "  busca todos los divisores de un número n dado\n",
        "  por el usuario\n",
        "  \"\"\"\n",
        "  suma=0 #la suma inicia en cero\n",
        "  for i in range(1,n//2+1): #un iterador que va desde 1 hasta n//2+1\n",
        "    if n%i==0:#se verifica si es divisor\n",
        "      suma+=i #entonces se suma el número que sea divisor\n",
        "  return suma #regresa la suma de los divisores"
      ]
    },
    {
      "cell_type": "code",
      "execution_count": null,
      "metadata": {
        "id": "FAXF9ZHis3Ma"
      },
      "outputs": [],
      "source": [
        "def numeros_amigos(n):\n",
        "  \"\"\"\n",
        "  Se ingresa un número n que será el límite superior\n",
        "  de un rango donde se buscarán los números amigos\n",
        "  \"\"\"\n",
        "  for i in range(1,n+1): #primer ciclo for que busca un número en un rango\n",
        "    for j in range(i,n+1): #otro ciclo for pero ahora comienza donde el iterador del primero va para evitar repeticiones\n",
        "      if suma_divisores(i)==j and suma_divisores(j)==i and i!=j: #se verifica si son números amigos\n",
        "        print(i,j) #imprime los números amigos"
      ]
    },
    {
      "cell_type": "code",
      "execution_count": null,
      "metadata": {
        "colab": {
          "base_uri": "https://localhost:8080/"
        },
        "id": "2E6QW2s9ulM_",
        "outputId": "d67eb0a2-7f9f-4760-c908-c0c1cbd4efc8"
      },
      "outputs": [
        {
          "output_type": "stream",
          "name": "stdout",
          "text": [
            "220 284\n",
            "1184 1210\n",
            "2620 2924\n",
            "5020 5564\n",
            "6232 6368\n"
          ]
        }
      ],
      "source": [
        "numeros_amigos(10000)"
      ]
    },
    {
      "cell_type": "markdown",
      "metadata": {
        "id": "HC3omwhVx3WV"
      },
      "source": [
        "# **Punto 4**"
      ]
    },
    {
      "cell_type": "code",
      "execution_count": null,
      "metadata": {
        "id": "9X93fYqgx94A"
      },
      "outputs": [],
      "source": [
        "def cantidad_palabras (palabra):\n",
        "    \"\"\"\n",
        "    El usuario ingresa una palabra y se le entrega un diccionario\n",
        "    donde la llave es la letra y el valor la cantidad de veces que\n",
        "    se repite en la palabra\n",
        "    \"\"\"\n",
        "    if type(palabra)!=str: #se verifica si es una palabra\n",
        "        raise ValueError(\"La entrada ingresada no es válidad, por favor, ingrese una string\") #si no es una palabra, suelta un error\n",
        "    else:\n",
        "      frecuencia={} #diccionario vacío\n",
        "      for letra in palabra: #ciclo for que itera sobre la palabra ingresa por el usuario\n",
        "        if letra in frecuencia: #condiciona que si la letra ya se ha contado\n",
        "          frecuencia[letra]+=1 #si ya se contó la letra, entonces se le suma 1\n",
        "        else:\n",
        "          frecuencia[letra]=1 #si no se ha sumado ni una vez, se suma por primera vez\n",
        "    print(frecuencia)"
      ]
    },
    {
      "cell_type": "code",
      "execution_count": null,
      "metadata": {
        "id": "GUJqaaTh1dJg"
      },
      "outputs": [],
      "source": []
    }
  ],
  "metadata": {
    "colab": {
      "provenance": []
    },
    "kernelspec": {
      "display_name": "Python 3",
      "name": "python3"
    },
    "language_info": {
      "name": "python"
    }
  },
  "nbformat": 4,
  "nbformat_minor": 0
}