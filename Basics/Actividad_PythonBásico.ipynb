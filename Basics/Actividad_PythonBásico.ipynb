{
  "nbformat": 4,
  "nbformat_minor": 0,
  "metadata": {
    "colab": {
      "provenance": [],
      "include_colab_link": true
    },
    "kernelspec": {
      "name": "python3",
      "display_name": "Python 3"
    },
    "language_info": {
      "name": "python"
    }
  },
  "cells": [
    {
      "cell_type": "markdown",
      "metadata": {
        "id": "view-in-github",
        "colab_type": "text"
      },
      "source": [
        "<a href=\"https://colab.research.google.com/github/Camilonunez2104/MetodosComputacionales1012/blob/main/Basics/Actividad_PythonB%C3%A1sico.ipynb\" target=\"_parent\"><img src=\"https://colab.research.google.com/assets/colab-badge.svg\" alt=\"Open In Colab\"/></a>"
      ]
    },
    {
      "cell_type": "markdown",
      "source": [
        "# Actividad: Introducción a Python (sin librerías)\n",
        "\n",
        "---"
      ],
      "metadata": {
        "id": "ym3QAv5yfZSO"
      }
    },
    {
      "cell_type": "markdown",
      "source": [
        "## Problema 1: Números primos entre 2 y 50 con la Criba de Eratóstenes\n",
        "\n",
        "La **Criba de Eratóstenes** es un método eficiente para encontrar todos los números primos menores que un número dado. El algoritmo consiste en:\n",
        "\n",
        "1. Crear una lista de valores booleanos para representar los números del 2 al 50, todos inicialmente marcados como verdaderos.\n",
        "2. Comenzando desde el primer número primo (2), eliminar todos sus múltiplos (marcándolos como falsos).\n",
        "3. Repetir el proceso para el siguiente número no eliminado.\n",
        "4. Los números que permanezcan marcados como verdaderos son primos.\n",
        "\n",
        "Usando funciones, implementa este método y muestra en pantalla todos los números primos entre 2 y 50.\n",
        "\n"
      ],
      "metadata": {
        "id": "W0C9oNGXfwDj"
      }
    },
    {
      "cell_type": "code",
      "source": [
        "#Aqui va su código\n"
      ],
      "metadata": {
        "id": "GIk3OsqxfZ50"
      },
      "execution_count": null,
      "outputs": []
    },
    {
      "cell_type": "markdown",
      "source": [
        "## Problema 2: Aproximación de π usando la serie de Leibniz\n",
        "\n",
        "La serie de Leibniz es una forma sencilla de aproximar el valor de π:\n",
        "\n",
        "$$\n",
        "\\pi \\approx 4 \\sum_{n=0}^{N} \\frac{(-1)^n}{2n + 1}\n",
        "$$\n",
        "\n",
        "Implementa una función que realice este calculo y muestra la aproximación para distintos valores de $N$ (por ejemplo: 10, 100, 1000, 10000)."
      ],
      "metadata": {
        "id": "WzI-FhIWf2iJ"
      }
    },
    {
      "cell_type": "code",
      "source": [
        "#Aqui va su código\n",
        "estudiante = {\n",
        "    \"nombre\": \"Carlos\",\n",
        "    \"edad\": 22,\n",
        "    \"cursos\": [\"Programación\", \"Matemáticas\", \"Física\"]\n",
        "}\n",
        "\n",
        "# Acceder a valores\n",
        "print(estudiante[\"nombre\"])  # Carlos\n",
        "\n",
        "# Modificar valores\n",
        "estudiante[\"edad\"] = 23\n",
        "\n",
        "# Añadir nuevos pares clave-valor\n",
        "estudiante[\"promedio\"] = 8.7\n",
        "\n",
        "# Recorrer un diccionario\n",
        "for clave, valor in estudiante.items():\n",
        "    print(f\"{clave}: {valor}\")"
      ],
      "metadata": {
        "id": "DfVwDvrRf7Fz",
        "outputId": "6d3e6ebe-abeb-4f77-fea7-ef7fe342d6b9",
        "colab": {
          "base_uri": "https://localhost:8080/"
        }
      },
      "execution_count": 6,
      "outputs": [
        {
          "output_type": "stream",
          "name": "stdout",
          "text": [
            "Carlos\n",
            "nombre: Carlos\n",
            "edad: 23\n",
            "cursos: ['Programación', 'Matemáticas', 'Física']\n",
            "promedio: 8.7\n"
          ]
        }
      ]
    },
    {
      "cell_type": "markdown",
      "source": [
        "## Problema 3: Números amigos en un rango dado\n",
        "\n",
        "Dos números naturales $a$ y $b$ se llaman **números amigos** si la suma de los divisores propios (excluyendo el número mismo) de $a$ es igual a $b$, y viceversa.\n",
        "\n",
        "Por ejemplo, 220 y 284 son números amigos porque:\n",
        "- Los divisores propios de 220 son: 1, 2, 4, 5, 10, 11, 20, 22, 44, 55, 110 → suma: 284\n",
        "- Los divisores propios de 284 son: 1, 2, 4, 71, 142 → suma: 220\n",
        "\n",
        "Escribe un programa que encuentre todos los pares de números amigos en un rango dado por el usuario (por ejemplo, entre 1 y 10000)."
      ],
      "metadata": {
        "id": "Z1-gsRbNf7jy"
      }
    },
    {
      "cell_type": "code",
      "source": [
        "#Aqui va su código\n",
        "def suma_divisores(n):\n",
        "    suma = 0\n",
        "    for i in range(1, n-1):\n",
        "        if n % i == 0:\n",
        "            suma += i\n",
        "    return suma\n",
        "a = int(input(\"Ingrese el primer número del rango inferior: \"))\n",
        "b = int(input(\"Ingrese el segundo número del rango superior: \"))\n",
        "par_amigos = []\n",
        "for i in range(a, b):\n",
        "  suma1 = suma_divisores(i)\n",
        "  for j in range(i+1, b):\n",
        "    suma2 = suma_divisores(j)\n",
        "    if suma_divisores(i) == j and suma_divisores(j) == i:\n",
        "      par_amigos.append((i, j))\n",
        "\n",
        "print(par_amigos)"
      ],
      "metadata": {
        "id": "m87mKCXlgGjN",
        "outputId": "7f7ff02e-98af-4202-e98e-479e7d019364",
        "colab": {
          "base_uri": "https://localhost:8080/"
        }
      },
      "execution_count": 5,
      "outputs": [
        {
          "output_type": "stream",
          "name": "stdout",
          "text": [
            "Ingrese el primer número del rango inferior: 1\n",
            "Ingrese el segundo número del rango superior: 1000\n",
            "[(220, 284)]\n"
          ]
        }
      ]
    },
    {
      "cell_type": "markdown",
      "source": [
        "\n",
        "## Problema 4: Contador de frecuencias de letras en una palabra\n",
        "\n",
        "Escribe un programa que lea una palabra ingresada por el usuario y construya un diccionario donde cada clave sea una letra de la palabra, y el valor asociado sea la cantidad de veces que esa letra aparece. Imprime el resultado.\n"
      ],
      "metadata": {
        "id": "ASKmJNuBgHIp"
      }
    },
    {
      "cell_type": "code",
      "source": [
        "from re import split\n",
        "#Aqui va su código\n",
        "nombre = str(input(\"Ingrese una palabra: \"))\n",
        "\n",
        "def contar_letras(nombre):\n",
        "  diccionario = {}\n",
        "  separada = split(\"\", nombre)\n",
        "  diccionario[\"palabra\"] = nombre\n",
        "\n",
        "  return diccionario\n",
        "def contar_repetidos(separada):\n",
        "  repetidos = ()\n",
        "  unicos = ()\n",
        "  for i in separada:\n",
        "\n",
        "print(contar_letras(nombre))\n",
        "\n",
        "\n"
      ],
      "metadata": {
        "id": "klMGSddPgUQ5",
        "outputId": "66514efa-1688-4a1f-db3b-28759d1cc840",
        "colab": {
          "base_uri": "https://localhost:8080/",
          "height": 349
        }
      },
      "execution_count": 15,
      "outputs": [
        {
          "name": "stdout",
          "output_type": "stream",
          "text": [
            "Ingrese una palabra: camilo\n"
          ]
        },
        {
          "output_type": "error",
          "ename": "TypeError",
          "evalue": "'int' object is not iterable",
          "traceback": [
            "\u001b[0;31m---------------------------------------------------------------------------\u001b[0m",
            "\u001b[0;31mTypeError\u001b[0m                                 Traceback (most recent call last)",
            "\u001b[0;32m<ipython-input-15-d891ce815717>\u001b[0m in \u001b[0;36m<cell line: 0>\u001b[0;34m()\u001b[0m\n\u001b[1;32m     11\u001b[0m   \u001b[0;32mreturn\u001b[0m \u001b[0mdiccionario\u001b[0m\u001b[0;34m\u001b[0m\u001b[0;34m\u001b[0m\u001b[0m\n\u001b[1;32m     12\u001b[0m \u001b[0;34m\u001b[0m\u001b[0m\n\u001b[0;32m---> 13\u001b[0;31m \u001b[0mprint\u001b[0m\u001b[0;34m(\u001b[0m\u001b[0mcontar_letras\u001b[0m\u001b[0;34m(\u001b[0m\u001b[0mnombre\u001b[0m\u001b[0;34m)\u001b[0m\u001b[0;34m)\u001b[0m\u001b[0;34m\u001b[0m\u001b[0;34m\u001b[0m\u001b[0m\n\u001b[0m\u001b[1;32m     14\u001b[0m \u001b[0;34m\u001b[0m\u001b[0m\n\u001b[1;32m     15\u001b[0m \u001b[0;34m\u001b[0m\u001b[0m\n",
            "\u001b[0;32m<ipython-input-15-d891ce815717>\u001b[0m in \u001b[0;36mcontar_letras\u001b[0;34m(nombre)\u001b[0m\n\u001b[1;32m      7\u001b[0m   \u001b[0mseparada\u001b[0m \u001b[0;34m=\u001b[0m \u001b[0msplit\u001b[0m\u001b[0;34m(\u001b[0m\u001b[0;34m\"\"\u001b[0m\u001b[0;34m,\u001b[0m \u001b[0mnombre\u001b[0m\u001b[0;34m)\u001b[0m\u001b[0;34m\u001b[0m\u001b[0;34m\u001b[0m\u001b[0m\n\u001b[1;32m      8\u001b[0m   \u001b[0mdiccionario\u001b[0m\u001b[0;34m[\u001b[0m\u001b[0;34m\"palabra\"\u001b[0m\u001b[0;34m]\u001b[0m \u001b[0;34m=\u001b[0m \u001b[0mnombre\u001b[0m\u001b[0;34m\u001b[0m\u001b[0;34m\u001b[0m\u001b[0m\n\u001b[0;32m----> 9\u001b[0;31m   \u001b[0;32mfor\u001b[0m \u001b[0mi\u001b[0m \u001b[0;32min\u001b[0m \u001b[0;36m6\u001b[0m\u001b[0;34m:\u001b[0m\u001b[0;34m\u001b[0m\u001b[0;34m\u001b[0m\u001b[0m\n\u001b[0m\u001b[1;32m     10\u001b[0m     \u001b[0mdiccionario\u001b[0m\u001b[0;34m[\u001b[0m\u001b[0;34mr\"caracter\"\u001b[0m\u001b[0;34m,\u001b[0m\u001b[0mi\u001b[0m\u001b[0;34m]\u001b[0m \u001b[0;34m=\u001b[0m \u001b[0mseparada\u001b[0m\u001b[0;34m[\u001b[0m\u001b[0mi\u001b[0m\u001b[0;34m]\u001b[0m\u001b[0;34m\u001b[0m\u001b[0;34m\u001b[0m\u001b[0m\n\u001b[1;32m     11\u001b[0m   \u001b[0;32mreturn\u001b[0m \u001b[0mdiccionario\u001b[0m\u001b[0;34m\u001b[0m\u001b[0;34m\u001b[0m\u001b[0m\n",
            "\u001b[0;31mTypeError\u001b[0m: 'int' object is not iterable"
          ]
        }
      ]
    }
  ]
}